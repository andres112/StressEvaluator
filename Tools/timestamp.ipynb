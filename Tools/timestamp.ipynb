{
 "cells": [
  {
   "cell_type": "code",
   "execution_count": 7,
   "id": "a64b0ff1-cc12-481f-b1f4-48e27c01452c",
   "metadata": {},
   "outputs": [],
   "source": [
    "import pandas as pd\n",
    "from datetime import datetime\n",
    "import os\n",
    "\n",
    "path = \"./timestamp_creator\"\n",
    "e4_ts = path+\"/input/e4_timestamps.json\"  # Columns: sessionId, time"
   ]
  },
  {
   "cell_type": "code",
   "execution_count": 8,
   "id": "88bfc710-6049-48ee-b72d-2495c08ae272",
   "metadata": {},
   "outputs": [],
   "source": [
    "# Only should be one report in json format in this folder\n",
    "input_data = os.listdir(path+\"/input\")[0]\n",
    "input_data\n",
    "# Only should be one report in json format in this folder\n",
    "input_data = os.listdir(path+\"/input\")[0]"
   ]
  },
  {
   "cell_type": "code",
   "execution_count": 9,
   "id": "9b04c5e4-26f9-4596-9887-3966eb6c6616",
   "metadata": {},
   "outputs": [
    {
     "data": {
      "text/html": [
       "<div>\n",
       "<style scoped>\n",
       "    .dataframe tbody tr th:only-of-type {\n",
       "        vertical-align: middle;\n",
       "    }\n",
       "\n",
       "    .dataframe tbody tr th {\n",
       "        vertical-align: top;\n",
       "    }\n",
       "\n",
       "    .dataframe thead th {\n",
       "        text-align: right;\n",
       "    }\n",
       "</style>\n",
       "<table border=\"1\" class=\"dataframe\">\n",
       "  <thead>\n",
       "    <tr style=\"text-align: right;\">\n",
       "      <th></th>\n",
       "      <th>_id</th>\n",
       "      <th>close_date</th>\n",
       "      <th>consent</th>\n",
       "      <th>creation_date</th>\n",
       "      <th>current_step</th>\n",
       "      <th>responses</th>\n",
       "      <th>settings</th>\n",
       "      <th>test_id</th>\n",
       "      <th>user</th>\n",
       "    </tr>\n",
       "  </thead>\n",
       "  <tbody>\n",
       "    <tr>\n",
       "      <th>1</th>\n",
       "      <td>6EtIsBQZgh7VLE2Lvn7lu</td>\n",
       "      <td>Sat, 04 Sep 2021 13:13:45 GMT</td>\n",
       "      <td>True</td>\n",
       "      <td>Sat, 04 Sep 2021 13:06:52 GMT</td>\n",
       "      <td>83f7ac63-eaac-47d5-a768-5ec5b7c92ac3</td>\n",
       "      <td>[{'content': {}, 'end_time': 1630757347, 'star...</td>\n",
       "      <td>[{'ambient': False, 'color': [255, 255, 255], ...</td>\n",
       "      <td>6a7a81bf-2d52-457a-bf72-a2701082cbcd</td>\n",
       "      <td>{'age': '30', 'email': 'andres@gmail.com', 'ge...</td>\n",
       "    </tr>\n",
       "  </tbody>\n",
       "</table>\n",
       "</div>"
      ],
      "text/plain": [
       "                     _id                     close_date  consent  \\\n",
       "1  6EtIsBQZgh7VLE2Lvn7lu  Sat, 04 Sep 2021 13:13:45 GMT     True   \n",
       "\n",
       "                   creation_date                          current_step  \\\n",
       "1  Sat, 04 Sep 2021 13:06:52 GMT  83f7ac63-eaac-47d5-a768-5ec5b7c92ac3   \n",
       "\n",
       "                                           responses  \\\n",
       "1  [{'content': {}, 'end_time': 1630757347, 'star...   \n",
       "\n",
       "                                            settings  \\\n",
       "1  [{'ambient': False, 'color': [255, 255, 255], ...   \n",
       "\n",
       "                                test_id  \\\n",
       "1  6a7a81bf-2d52-457a-bf72-a2701082cbcd   \n",
       "\n",
       "                                                user  \n",
       "1  {'age': '30', 'email': 'andres@gmail.com', 'ge...  "
      ]
     },
     "execution_count": 9,
     "metadata": {},
     "output_type": "execute_result"
    }
   ],
   "source": [
    "sessions = pd.read_json(path+\"/input/\"+input_data)\n",
    "sessions = sessions.query('consent == True & close_date != None')\n",
    "sessions"
   ]
  },
  {
   "cell_type": "code",
   "execution_count": 10,
   "id": "06525aaf-56ec-4b33-acd7-fe4f86f76215",
   "metadata": {},
   "outputs": [
    {
     "data": {
      "text/html": [
       "<div>\n",
       "<style scoped>\n",
       "    .dataframe tbody tr th:only-of-type {\n",
       "        vertical-align: middle;\n",
       "    }\n",
       "\n",
       "    .dataframe tbody tr th {\n",
       "        vertical-align: top;\n",
       "    }\n",
       "\n",
       "    .dataframe thead th {\n",
       "        text-align: right;\n",
       "    }\n",
       "</style>\n",
       "<table border=\"1\" class=\"dataframe\">\n",
       "  <thead>\n",
       "    <tr style=\"text-align: right;\">\n",
       "      <th></th>\n",
       "      <th>sessionId</th>\n",
       "      <th>time</th>\n",
       "    </tr>\n",
       "  </thead>\n",
       "  <tbody>\n",
       "    <tr>\n",
       "      <th>0</th>\n",
       "      <td>6EtIsBQZgh7VLE2Lvn7lu</td>\n",
       "      <td>1630757251</td>\n",
       "    </tr>\n",
       "  </tbody>\n",
       "</table>\n",
       "</div>"
      ],
      "text/plain": [
       "               sessionId        time\n",
       "0  6EtIsBQZgh7VLE2Lvn7lu  1630757251"
      ]
     },
     "execution_count": 10,
     "metadata": {},
     "output_type": "execute_result"
    }
   ],
   "source": [
    "# Load the empatica e4 timestamp sessions\n",
    "e4_sessions = pd.read_json(e4_ts)\n",
    "e4_sessions"
   ]
  },
  {
   "cell_type": "code",
   "execution_count": 11,
   "id": "f5f260f1-f0b9-45b3-951b-fb341e1cbbee",
   "metadata": {},
   "outputs": [
    {
     "data": {
      "text/html": [
       "<div>\n",
       "<style scoped>\n",
       "    .dataframe tbody tr th:only-of-type {\n",
       "        vertical-align: middle;\n",
       "    }\n",
       "\n",
       "    .dataframe tbody tr th {\n",
       "        vertical-align: top;\n",
       "    }\n",
       "\n",
       "    .dataframe thead th {\n",
       "        text-align: right;\n",
       "    }\n",
       "</style>\n",
       "<table border=\"1\" class=\"dataframe\">\n",
       "  <thead>\n",
       "    <tr style=\"text-align: right;\">\n",
       "      <th></th>\n",
       "      <th>sessionId</th>\n",
       "      <th>e4_start</th>\n",
       "      <th>step_0</th>\n",
       "      <th>type_step_0</th>\n",
       "      <th>e4_diff_step_0</th>\n",
       "      <th>start_step_0</th>\n",
       "      <th>end_step_0</th>\n",
       "      <th>dur_step_0</th>\n",
       "      <th>step_1</th>\n",
       "      <th>type_step_1</th>\n",
       "      <th>...</th>\n",
       "      <th>e4_diff_step_5</th>\n",
       "      <th>start_step_5</th>\n",
       "      <th>end_step_5</th>\n",
       "      <th>dur_step_5</th>\n",
       "      <th>step_6</th>\n",
       "      <th>type_step_6</th>\n",
       "      <th>e4_diff_step_6</th>\n",
       "      <th>start_step_6</th>\n",
       "      <th>end_step_6</th>\n",
       "      <th>dur_step_6</th>\n",
       "    </tr>\n",
       "  </thead>\n",
       "  <tbody>\n",
       "    <tr>\n",
       "      <th>0</th>\n",
       "      <td>6EtIsBQZgh7VLE2Lvn7lu</td>\n",
       "      <td>1.630757e+09</td>\n",
       "      <td>26bcc93d-948e-43e6-8c08-6d603b3c18a9</td>\n",
       "      <td>info</td>\n",
       "      <td>45.0</td>\n",
       "      <td>1.630757e+09</td>\n",
       "      <td>1.630757e+09</td>\n",
       "      <td>51.0</td>\n",
       "      <td>39fb8305-d4ab-4c4c-8915-38a11d055d4d</td>\n",
       "      <td>question</td>\n",
       "      <td>...</td>\n",
       "      <td>286.0</td>\n",
       "      <td>1.630758e+09</td>\n",
       "      <td>1.630758e+09</td>\n",
       "      <td>60.0</td>\n",
       "      <td>33a4b88d-dc42-46d7-a2e4-04d311b7312a</td>\n",
       "      <td>question</td>\n",
       "      <td>346.0</td>\n",
       "      <td>1.630758e+09</td>\n",
       "      <td>1.630758e+09</td>\n",
       "      <td>17.0</td>\n",
       "    </tr>\n",
       "  </tbody>\n",
       "</table>\n",
       "<p>1 rows × 44 columns</p>\n",
       "</div>"
      ],
      "text/plain": [
       "               sessionId      e4_start                                step_0  \\\n",
       "0  6EtIsBQZgh7VLE2Lvn7lu  1.630757e+09  26bcc93d-948e-43e6-8c08-6d603b3c18a9   \n",
       "\n",
       "  type_step_0  e4_diff_step_0  start_step_0    end_step_0  dur_step_0  \\\n",
       "0        info            45.0  1.630757e+09  1.630757e+09        51.0   \n",
       "\n",
       "                                 step_1 type_step_1  ...  e4_diff_step_5  \\\n",
       "0  39fb8305-d4ab-4c4c-8915-38a11d055d4d    question  ...           286.0   \n",
       "\n",
       "   start_step_5    end_step_5  dur_step_5  \\\n",
       "0  1.630758e+09  1.630758e+09        60.0   \n",
       "\n",
       "                                 step_6 type_step_6  e4_diff_step_6  \\\n",
       "0  33a4b88d-dc42-46d7-a2e4-04d311b7312a    question           346.0   \n",
       "\n",
       "   start_step_6    end_step_6  dur_step_6  \n",
       "0  1.630758e+09  1.630758e+09        17.0  \n",
       "\n",
       "[1 rows x 44 columns]"
      ]
     },
     "execution_count": 11,
     "metadata": {},
     "output_type": "execute_result"
    }
   ],
   "source": [
    "ts = pd.DataFrame()\n",
    "for i, session in sessions.iterrows():\n",
    "    responses = session['responses']\n",
    "    responses = pd.DataFrame.from_dict(responses)\n",
    "    index = 0\n",
    "    step_info = {'sessionId': session['_id'],\n",
    "                 'e4_start': e4_sessions[e4_sessions['sessionId'] == session['_id']].iloc[0]['time']}\n",
    "    for index, step in responses.iterrows():\n",
    "        [start, end] = [step['start_time'], step['end_time']]\n",
    "        dur = end - start\n",
    "        step_info.update(\n",
    "            {f'step_{index}': step['step_id'],\n",
    "             f'type_step_{index}': step['type'],\n",
    "             f'e4_diff_step_{index}': start - step_info['e4_start'],\n",
    "             f'start_step_{index}': start,\n",
    "             f'end_step_{index}': end,\n",
    "             f'dur_step_{index}': dur})\n",
    "    ts = ts.append(step_info, ignore_index=True)\n",
    "ts"
   ]
  },
  {
   "cell_type": "code",
   "execution_count": 12,
   "id": "e608cda9-64ea-413a-9731-a2fcd2e409b3",
   "metadata": {},
   "outputs": [],
   "source": [
    "# create csv with timestamp\n",
    "ts.to_csv(path+\"/output/timestamp.csv\", index=False)"
   ]
  },
  {
   "cell_type": "code",
   "execution_count": null,
   "id": "893ad450-7cce-47da-832d-d82782200869",
   "metadata": {},
   "outputs": [],
   "source": []
  }
 ],
 "metadata": {
  "kernelspec": {
   "display_name": "Python 3 (ipykernel)",
   "language": "python",
   "name": "python3"
  },
  "language_info": {
   "codemirror_mode": {
    "name": "ipython",
    "version": 3
   },
   "file_extension": ".py",
   "mimetype": "text/x-python",
   "name": "python",
   "nbconvert_exporter": "python",
   "pygments_lexer": "ipython3",
   "version": "3.9.5"
  }
 },
 "nbformat": 4,
 "nbformat_minor": 5
}
